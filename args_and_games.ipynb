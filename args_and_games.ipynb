{
 "cells": [
  {
   "cell_type": "code",
   "execution_count": 2,
   "id": "6b1fef2f",
   "metadata": {},
   "outputs": [
    {
     "name": "stdout",
     "output_type": "stream",
     "text": [
      "no of lessons in subject: 5\n",
      "name of lesson: The world\n",
      "day at which lesson was taught: Tuesday\n"
     ]
    }
   ],
   "source": [
    "#functions in python\n",
    "def teacher(n,name,day):\n",
    "    print(\"no of lessons in subject:\",n)\n",
    "    print(\"name of lesson:\",name)\n",
    "    print(\"day at which lesson was taught:\",day)\n",
    "teacher(5,\"The world\",\"Tuesday\")"
   ]
  },
  {
   "cell_type": "code",
   "execution_count": 14,
   "id": "4ad7bcf2",
   "metadata": {},
   "outputs": [
    {
     "name": "stdout",
     "output_type": "stream",
     "text": [
      "7\n"
     ]
    }
   ],
   "source": [
    "#args\n",
    "def add(*args):\n",
    "    sum=0\n",
    "    for i in args:\n",
    "        sum+=i\n",
    "    return sum\n",
    "print(add(1,6))"
   ]
  },
  {
   "cell_type": "code",
   "execution_count": 25,
   "id": "b6e734aa",
   "metadata": {},
   "outputs": [
    {
     "name": "stdout",
     "output_type": "stream",
     "text": [
      "hello i am chetan "
     ]
    }
   ],
   "source": [
    "def fun(*data):\n",
    "    for i in data:\n",
    "        print(i,end=\" \")\n",
    "fun('hello','i','am','chetan')"
   ]
  },
  {
   "cell_type": "code",
   "execution_count": 32,
   "id": "717ed185",
   "metadata": {},
   "outputs": [
    {
     "name": "stdout",
     "output_type": "stream",
     "text": [
      "120\n"
     ]
    }
   ],
   "source": [
    "def multiplier(*args):\n",
    "    sum=1;\n",
    "    for i in args:\n",
    "        sum*=i\n",
    "    return sum\n",
    "print(multiplier(2,3,4,5))"
   ]
  },
  {
   "cell_type": "code",
   "execution_count": 22,
   "id": "2fabcc22",
   "metadata": {},
   "outputs": [
    {
     "name": "stdout",
     "output_type": "stream",
     "text": [
      "hello\n",
      "chetan 21 "
     ]
    }
   ],
   "source": [
    "#kwargs\n",
    "def greet(**kwargs):\n",
    "    print(\"hello\")\n",
    "    for key,value in kwargs.items():\n",
    "        print(value,end=\" \")\n",
    "greet(name=\"chetan\",age=\"21\")\n",
    "        \n",
    "        "
   ]
  },
  {
   "cell_type": "code",
   "execution_count": 53,
   "id": "7361b340",
   "metadata": {},
   "outputs": [
    {
     "name": "stdout",
     "output_type": "stream",
     "text": [
      "2\n",
      "0.5302645937297529\n",
      "natehc\n"
     ]
    }
   ],
   "source": [
    "#printing random variables\n",
    "import random\n",
    "x=random.randint(1,9)\n",
    "print(x)\n",
    "\n",
    "y=random.random()\n",
    "print(y)\n",
    "\n",
    "list1=[\"chetan\",\"natehc\",\"coke\"]\n",
    "z=random.choice(list1)\n",
    "print(z)\n"
   ]
  },
  {
   "cell_type": "code",
   "execution_count": 67,
   "id": "58900c66",
   "metadata": {},
   "outputs": [
    {
     "name": "stdout",
     "output_type": "stream",
     "text": [
      "enter a number 44\n",
      "number given by computer  90\n",
      "computer won\n"
     ]
    }
   ],
   "source": [
    "#game1\n",
    "import random\n",
    "computer=random.randint(1,99)\n",
    "user=int(input(\"enter a number \"))\n",
    "print(\"number given by computer \",computer)\n",
    "if user>computer:\n",
    "    print(\"you won\")\n",
    "elif user<computer:\n",
    "    print(\"computer won\")\n",
    "else:\n",
    "    print(\"it's a TIE\")"
   ]
  },
  {
   "cell_type": "code",
   "execution_count": 21,
   "id": "f4b09623",
   "metadata": {
    "scrolled": true
   },
   "outputs": [
    {
     "name": "stdout",
     "output_type": "stream",
     "text": [
      "no of times 1\n",
      "enter your sign ee\n",
      "ROCK\n"
     ]
    }
   ],
   "source": [
    "#game2\n",
    "import random\n",
    "list1=[\"ROCK\",\"PAPER\",\"SCISSOR\"]\n",
    "n=int(input(\"no of times \"))\n",
    "\n",
    "\n",
    "\n",
    "for i in range(n):\n",
    "      computer=random.choice(list1)\n",
    "      user=input(\"enter your sign \")\n",
    "      print(computer)\n",
    "      if computer==\"ROCK\" and user==\"PAPER\":\n",
    "            print(\"USER WON\")\n",
    "      elif computer==\"ROCK\" and user==\"SCISSOR\":\n",
    "            print(\"COMPUTER WON\")\n",
    "      elif computer==\"ROCK\" and user==\"ROCK\":\n",
    "            print(\"TIE\")\n",
    "      elif computer==\"PAPER\" and user==\"PAPER\":\n",
    "            print(\"TIE\")\n",
    "      elif computer==\"PAPER\" and user==\"ROCK\":\n",
    "            print(\"COMPUTER WON\")\n",
    "      elif computer==\"PAPER\" and user==\"SCISSOR\":\n",
    "            print(\"USER WON\")\n",
    "      elif computer==\"SCISSOR\" and user==\"PAPER\":\n",
    "            print(\"COMPUTER WON\")\n",
    "      elif computer==\"SCISSOR\" and user==\"ROCK\":\n",
    "            print(\"USER won\")\n",
    "      elif computer==\"SCISSOR\" and user==\"SCISSOR\":\n",
    "\n",
    "            print(\"TIE\")\n",
    "    "
   ]
  },
  {
   "cell_type": "code",
   "execution_count": null,
   "id": "dab884c1",
   "metadata": {},
   "outputs": [],
   "source": []
  },
  {
   "cell_type": "code",
   "execution_count": null,
   "id": "036fafc1",
   "metadata": {},
   "outputs": [],
   "source": []
  }
 ],
 "metadata": {
  "kernelspec": {
   "display_name": "Python 3 (ipykernel)",
   "language": "python",
   "name": "python3"
  },
  "language_info": {
   "codemirror_mode": {
    "name": "ipython",
    "version": 3
   },
   "file_extension": ".py",
   "mimetype": "text/x-python",
   "name": "python",
   "nbconvert_exporter": "python",
   "pygments_lexer": "ipython3",
   "version": "3.10.9"
  }
 },
 "nbformat": 4,
 "nbformat_minor": 5
}
