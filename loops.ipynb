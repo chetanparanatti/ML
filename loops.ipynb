{
 "cells": [
  {
   "cell_type": "code",
   "execution_count": 2,
   "id": "9d53a156",
   "metadata": {},
   "outputs": [
    {
     "name": "stdout",
     "output_type": "stream",
     "text": [
      "rohan\n",
      "raj\n",
      "chetan\n",
      "found\n",
      "naman\n"
     ]
    }
   ],
   "source": [
    "list1=[\"rohan\",\"raj\",\"chetan\",\"naman\"]\n",
    "for x in list1:\n",
    "    print(x)\n",
    "    if x==\"chetan\":\n",
    "     print(\"found\")"
   ]
  },
  {
   "cell_type": "code",
   "execution_count": 20,
   "id": "5fb97c12",
   "metadata": {},
   "outputs": [
    {
     "name": "stdout",
     "output_type": "stream",
     "text": [
      "enter the elements of arraychetan rohan raj 45\n",
      "['chetan', 'rohan', 'raj', '45']\n",
      "['45', 'raj', 'rohan', 'chetan']\n"
     ]
    }
   ],
   "source": [
    "x=input(\"enter the elements of array\")\n",
    "array=x.split()\n",
    "print(array)\n",
    "array.reverse()\n",
    "print(array)   "
   ]
  },
  {
   "cell_type": "code",
   "execution_count": 22,
   "id": "6ec824f6",
   "metadata": {},
   "outputs": [
    {
     "name": "stdout",
     "output_type": "stream",
     "text": [
      "enter the elements of array1chetan rohan 22 11\n",
      "enter the elements of array2chetan 11 r0han 22\n",
      "array1 and array2 are not equal\n"
     ]
    }
   ],
   "source": [
    "x=input(\"enter the elements of array1\")\n",
    "y=input(\"enter the elements of array2\")\n",
    "array1=x.split()\n",
    "array2=y.split()\n",
    "if array1==array2:\n",
    "    print(\"array1 and array2 are equal\")\n",
    "else:\n",
    "    print(\"array1 and array2 are not equal\")"
   ]
  },
  {
   "cell_type": "code",
   "execution_count": 3,
   "id": "1c24b798",
   "metadata": {},
   "outputs": [
    {
     "name": "stdout",
     "output_type": "stream",
     "text": [
      "enter the elements of an array44 55 66 77\n",
      "['44', '55', '66', '77']\n",
      "false\n"
     ]
    }
   ],
   "source": [
    "x=input(\"enter the elements of an array\")\n",
    "array=x.split()\n",
    "set1=set(array)\n",
    "print(array)\n",
    "#print(set1)\n",
    "if len(array)==len(set1):\n",
    "    print(\"false\")\n",
    "else:\n",
    "    print(\"true\")"
   ]
  },
  {
   "cell_type": "code",
   "execution_count": 45,
   "id": "39ab4b4a",
   "metadata": {},
   "outputs": [
    {
     "name": "stdout",
     "output_type": "stream",
     "text": [
      "ram rom cpu cd\n",
      "['ram', 'rom', 'cpu', 'cd']\n",
      "ram\n",
      "rom\n",
      "cd\n"
     ]
    }
   ],
   "source": [
    "x=input()\n",
    "list1=x.split()\n",
    "print(list1)\n",
    "del list1[2]\n",
    "for x in list1:\n",
    "    #if x==\"cpu\":\n",
    "     print(x)\n",
    "   "
   ]
  },
  {
   "cell_type": "code",
   "execution_count": 74,
   "id": "14709de6",
   "metadata": {},
   "outputs": [
    {
     "name": "stdout",
     "output_type": "stream",
     "text": [
      "ram\n",
      "cpu\n",
      "cd\n"
     ]
    }
   ],
   "source": [
    "list3=[\"ram\",\"rom\",\"cpu\",\"cd\"]\n",
    "for x in list3:\n",
    "    if x==\"rom\":\n",
    "        continue\n",
    "    print(x)\n",
    "    \n",
    "    "
   ]
  },
  {
   "cell_type": "code",
   "execution_count": 69,
   "id": "daa7c70f",
   "metadata": {},
   "outputs": [
    {
     "name": "stdout",
     "output_type": "stream",
     "text": [
      "che tan\n",
      "che han\n",
      "che an\n",
      "ro tan\n",
      "ro han\n",
      "ro an\n",
      "nam tan\n",
      "nam han\n",
      "nam an\n"
     ]
    }
   ],
   "source": [
    "list4=[\"che\",\"ro\",\"nam\"]\n",
    "list5=[\"tan\",\"han\",\"an\"]\n",
    "for x in list4:\n",
    "    #print(x)\n",
    "    for y in list5:\n",
    "        print(x,y)\n",
    "        "
   ]
  },
  {
   "cell_type": "code",
   "execution_count": 82,
   "id": "86867cbe",
   "metadata": {},
   "outputs": [
    {
     "name": "stdout",
     "output_type": "stream",
     "text": [
      "enter a number7\n",
      "7\n",
      "14\n",
      "21\n",
      "28\n",
      "35\n",
      "42\n",
      "49\n",
      "56\n",
      "63\n",
      "70\n"
     ]
    }
   ],
   "source": [
    "a=int(input(\"enter a number\"))\n",
    "list1=[1,2,3,4,5,6,7,8,9,10]\n",
    "for x in list1:\n",
    "    print(a*x)"
   ]
  },
  {
   "cell_type": "code",
   "execution_count": 20,
   "id": "4cd3c509",
   "metadata": {},
   "outputs": [
    {
     "name": "stdout",
     "output_type": "stream",
     "text": [
      "enter a number5\n",
      "5 x 1 = 5\n",
      "5 x 2 = 10\n",
      "5 x 3 = 15\n",
      "5 x 4 = 20\n",
      "5 x 5 = 25\n",
      "5 x 6 = 30\n",
      "5 x 7 = 35\n",
      "5 x 8 = 40\n",
      "5 x 9 = 45\n",
      "5 x 10 = 50\n"
     ]
    }
   ],
   "source": [
    "b=int(input(\"enter a number\"))\n",
    "for i in range(1,11):\n",
    "    c=b*i\n",
    "    print(b,\"x\",i,\"=\",c)\n",
    "    "
   ]
  },
  {
   "cell_type": "code",
   "execution_count": 24,
   "id": "c88ccfe0",
   "metadata": {},
   "outputs": [
    {
     "name": "stdout",
     "output_type": "stream",
     "text": [
      "enter the number of elements3\n",
      "enter them1\n",
      "1\n",
      "enter them2\n",
      "2\n",
      "enter them4\n",
      "4\n",
      "[1, 2, 4]\n"
     ]
    }
   ],
   "source": [
    "lst=[]\n",
    "n=int(input(\"enter the number of elements\"))\n",
    "for i in range(n):\n",
    "    x=int(input(\"enter them\"))\n",
    "    lst.append(x)\n",
    "    print(x)\n",
    "print(lst)"
   ]
  },
  {
   "cell_type": "code",
   "execution_count": 30,
   "id": "a8b5b2e3",
   "metadata": {},
   "outputs": [
    {
     "name": "stdout",
     "output_type": "stream",
     "text": [
      "enter the no of persons name 3\n",
      "enter the names of persons\n",
      "chetan namam rohan\n",
      "hello  chetan how are you\n",
      "hello  namam how are you\n",
      "hello  rohan how are you\n"
     ]
    }
   ],
   "source": [
    "n=int(input(\"enter the no of persons name \"))\n",
    "print(\"enter the names of persons\")\n",
    "y=input()\n",
    "lst1=y.split()\n",
    "for i in range(n):\n",
    "    print(\"hello \",lst1[i],\"how are you\")\n",
    "    i=i+1\n",
    "\n",
    "\n"
   ]
  },
  {
   "cell_type": "code",
   "execution_count": 36,
   "id": "236b3a11",
   "metadata": {},
   "outputs": [
    {
     "name": "stdout",
     "output_type": "stream",
     "text": [
      "enter the marks you have scored ina an subject 35\n",
      "fail\n"
     ]
    }
   ],
   "source": [
    "n=int(input(\"enter the marks you have scored ina an subject \"))\n",
    "for i in range(n):\n",
    "    if n>40 and n<50:\n",
    "        print(\"E grade\")\n",
    "        break\n",
    "    elif n>50 and n<60:\n",
    "        print(\"D grade\")\n",
    "        break\n",
    "    elif n>60 and n<70:\n",
    "        print(\"C grade\")\n",
    "        break\n",
    "    elif n>70 and n<80:\n",
    "        print(\"B grade\")\n",
    "        break\n",
    "    elif n>80 and n<90:\n",
    "        print(\"A grade\")\n",
    "        break\n",
    "    elif n>90 and n<100:\n",
    "        print(\"S grdae\")\n",
    "        break\n",
    "    else:\n",
    "        print(\"fail\")\n",
    "        break"
   ]
  },
  {
   "cell_type": "code",
   "execution_count": 4,
   "id": "efae6705",
   "metadata": {},
   "outputs": [
    {
     "name": "stdout",
     "output_type": "stream",
     "text": [
      "1\n",
      "2\n",
      "3\n",
      "4\n",
      "5\n",
      "6\n",
      "7\n",
      "8\n",
      "9\n",
      "10\n"
     ]
    }
   ],
   "source": [
    "for i in range(1,11):\n",
    "    print(i)"
   ]
  },
  {
   "cell_type": "code",
   "execution_count": 52,
   "id": "66866e64",
   "metadata": {},
   "outputs": [
    {
     "name": "stdout",
     "output_type": "stream",
     "text": [
      "enter total no4\n",
      "enter the element2\n",
      "enter the element1\n",
      "enter the element3\n",
      "enter the element5\n",
      "[2, 1, 3, 5]\n",
      "even list  [2]\n",
      "odd list  [1, 3, 5]\n"
     ]
    }
   ],
   "source": [
    "lst=[]\n",
    "lst1=[]\n",
    "list1=[]\n",
    "x=int(input(\"enter total no\"))\n",
    "for i in range(x) :\n",
    "    y =int(input(\"enter the element\"))\n",
    "    list1.append(y)\n",
    "    if y%2==0 :\n",
    "       lst.append(y)\n",
    "    else :\n",
    "       lst1.append(y)\n",
    "print(list1)\n",
    "print(\"even list \",lst)\n",
    "print(\"odd list \",lst1)"
   ]
  },
  {
   "cell_type": "code",
   "execution_count": 61,
   "id": "55cc2477",
   "metadata": {},
   "outputs": [
    {
     "name": "stdout",
     "output_type": "stream",
     "text": [
      "1 3 5 7 9 11 13 15 17 19 "
     ]
    }
   ],
   "source": [
    "#program to print first 10 odd numbers\n",
    "for i in range(1,21,2):\n",
    "    print(i,end=\" \")"
   ]
  },
  {
   "cell_type": "markdown",
   "id": "b92aa69b",
   "metadata": {},
   "source": [
    "## "
   ]
  },
  {
   "cell_type": "code",
   "execution_count": 63,
   "id": "de17aa4c",
   "metadata": {},
   "outputs": [
    {
     "name": "stdout",
     "output_type": "stream",
     "text": [
      "[20, 18, 16, 14, 12, 10, 8, 6, 4, 2]\n"
     ]
    }
   ],
   "source": [
    "list1=[]\n",
    "for i in range(2,21,2):\n",
    "    #print(i,end=\" \")\n",
    "    list1.append(i)\n",
    "list1.reverse()\n",
    "print(list1)\n",
    "    "
   ]
  },
  {
   "cell_type": "code",
   "execution_count": null,
   "id": "7b2c3f95",
   "metadata": {},
   "outputs": [],
   "source": []
  }
 ],
 "metadata": {
  "kernelspec": {
   "display_name": "Python 3 (ipykernel)",
   "language": "python",
   "name": "python3"
  },
  "language_info": {
   "codemirror_mode": {
    "name": "ipython",
    "version": 3
   },
   "file_extension": ".py",
   "mimetype": "text/x-python",
   "name": "python",
   "nbconvert_exporter": "python",
   "pygments_lexer": "ipython3",
   "version": "3.10.9"
  }
 },
 "nbformat": 4,
 "nbformat_minor": 5
}
