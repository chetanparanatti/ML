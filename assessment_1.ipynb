{
 "cells": [
  {
   "cell_type": "code",
   "execution_count": 73,
   "id": "01f3cdf9",
   "metadata": {},
   "outputs": [
    {
     "name": "stdout",
     "output_type": "stream",
     "text": [
      "enter a number77\n",
      "77 is not a prime number\n",
      "divisible by 7\n",
      "divisible by 11\n"
     ]
    }
   ],
   "source": [
    "num=int(input(\"enter a number\"))\n",
    "c=0\n",
    "for i in range(num):\n",
    "    i=i+1\n",
    "    if (num%i)==0:\n",
    "        c=c+1\n",
    "    else:\n",
    "        continue\n",
    "    \n",
    "if c<=2:\n",
    "    print(num,\" is a prime number\")\n",
    "    \n",
    "else:\n",
    "    print(num,\"is not a prime number\")\n",
    "    \n",
    "    if num%3==0:\n",
    "        print(\"divisible by 3\")\n",
    "        \n",
    "    if num%7==0:\n",
    "        print(\"divisible by 7\")\n",
    "            \n",
    "    if num%9==0:\n",
    "        print(\"divisible by 9\")\n",
    "        \n",
    "    if num%11==0:\n",
    "        print(\"divisible by 11\")\n",
    "    "
   ]
  },
  {
   "cell_type": "code",
   "execution_count": 62,
   "id": "e7dd2581",
   "metadata": {},
   "outputs": [
    {
     "name": "stdout",
     "output_type": "stream",
     "text": [
      "enter a string naman\n",
      "naman\n",
      "is a palindrome\n"
     ]
    }
   ],
   "source": [
    "x=input(\"enter a string \")\n",
    "print(x)\n",
    "if x[::-1]==x:\n",
    "    print(\"is a palindrome\")\n",
    "else:\n",
    "    print(\"is not a prime number\")"
   ]
  },
  {
   "cell_type": "code",
   "execution_count": 61,
   "id": "be14c1da",
   "metadata": {},
   "outputs": [
    {
     "name": "stdout",
     "output_type": "stream",
     "text": [
      "enter the no of elements 10\n",
      "10\n",
      "enter elements 12\n",
      "enter elements 13\n",
      "enter elements 45\n",
      "enter elements 76\n",
      "enter elements 45\n",
      "enter elements 98\n",
      "enter elements 57\n",
      "enter elements 44\n",
      "enter elements 46\n",
      "enter elements 79\n",
      "[12, 13, 45, 76, 45, 98, 57, 44, 46, 79]\n",
      "even list  [12, 76, 98, 44, 46]\n",
      "odd list  [13, 45, 45, 57, 79]\n"
     ]
    }
   ],
   "source": [
    "list1=[]\n",
    "even=[]\n",
    "odd=[]\n",
    "n=int(input(\"enter the no of elements \"))\n",
    "print(n)\n",
    "for i in range(n):\n",
    "    x=int(input(\"enter elements \"))\n",
    "    list1.append(x)\n",
    "    if x%2==0:\n",
    "        even.append(x)\n",
    "    elif x%2!=0:\n",
    "        odd.append(x)\n",
    "print(list1)\n",
    "print(\"even list \",even)\n",
    "print(\"odd list \",odd)"
   ]
  },
  {
   "cell_type": "code",
   "execution_count": 71,
   "id": "b4c230ed",
   "metadata": {},
   "outputs": [
    {
     "name": "stdout",
     "output_type": "stream",
     "text": [
      "enter no of rows5\n",
      "5\n",
      "*\n",
      "**\n",
      "***\n",
      "****\n"
     ]
    }
   ],
   "source": [
    "x=int(input(\"enter no of rows\"))\n",
    "print(x)\n",
    "for i in range(x):\n",
    "    if x==i+1:\n",
    "     print(\"*\")\n",
    "     break\n",
    "    elif x==i+2:\n",
    "     print(\"*\")\n",
    "     print(\"**\")\n",
    "     break\n",
    "    elif x==i+3:\n",
    "     print(\"*\")\n",
    "     print(\"**\")\n",
    "     print(\"***\")\n",
    "     break\n",
    "    elif x==i+4:\n",
    "     print(\"*\")\n",
    "     print(\"**\")\n",
    "     print(\"***\")\n",
    "     print(\"****\")\n",
    "     break"
   ]
  },
  {
   "cell_type": "code",
   "execution_count": null,
   "id": "92c4a355",
   "metadata": {},
   "outputs": [],
   "source": []
  },
  {
   "cell_type": "code",
   "execution_count": null,
   "id": "47c5357d",
   "metadata": {},
   "outputs": [],
   "source": []
  }
 ],
 "metadata": {
  "kernelspec": {
   "display_name": "Python 3 (ipykernel)",
   "language": "python",
   "name": "python3"
  },
  "language_info": {
   "codemirror_mode": {
    "name": "ipython",
    "version": 3
   },
   "file_extension": ".py",
   "mimetype": "text/x-python",
   "name": "python",
   "nbconvert_exporter": "python",
   "pygments_lexer": "ipython3",
   "version": "3.10.9"
  }
 },
 "nbformat": 4,
 "nbformat_minor": 5
}
