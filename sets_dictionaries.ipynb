{
 "cells": [
  {
   "cell_type": "code",
   "execution_count": 1,
   "id": "6461044a",
   "metadata": {},
   "outputs": [
    {
     "name": "stdout",
     "output_type": "stream",
     "text": [
      "{1234, 'abcd', 'ABCD'}\n"
     ]
    }
   ],
   "source": [
    "set1={\"abcd\",\"ABCD\",1234}\n",
    "print(set1)"
   ]
  },
  {
   "cell_type": "code",
   "execution_count": 4,
   "id": "c0727d1f",
   "metadata": {},
   "outputs": [
    {
     "name": "stdout",
     "output_type": "stream",
     "text": [
      "{'shyam', 'rohan', 1234, 'ABCD', 'chetan', 'abcd'}\n"
     ]
    }
   ],
   "source": [
    "set1={\"abcd\",\"ABCD\",1234}\n",
    "set2={\"chetan\",\"rohan\",\"shyam\"}\n",
    "set1.update(set2)\n",
    "print(set1)"
   ]
  },
  {
   "cell_type": "code",
   "execution_count": 11,
   "id": "c47d856c",
   "metadata": {},
   "outputs": [
    {
     "name": "stdout",
     "output_type": "stream",
     "text": [
      "123,34\n",
      "{'123,34'}\n"
     ]
    }
   ],
   "source": [
    "x=input()\n",
    "set1={x}\n",
    "print(set1)\n"
   ]
  },
  {
   "cell_type": "code",
   "execution_count": 12,
   "id": "c47bd80b",
   "metadata": {},
   "outputs": [
    {
     "name": "stdout",
     "output_type": "stream",
     "text": [
      "{'shyam', 'rohan', 'chetan', 'ABCD'}\n"
     ]
    }
   ],
   "source": [
    "nameset={\"chetan\",\"rohan\",\"shyam\"}\n",
    "nameset.add(\"ABCD\")\n",
    "print(nameset)"
   ]
  },
  {
   "cell_type": "code",
   "execution_count": 13,
   "id": "33d6ceb9",
   "metadata": {},
   "outputs": [
    {
     "name": "stdout",
     "output_type": "stream",
     "text": [
      "{'rohan', 'chetan'}\n"
     ]
    }
   ],
   "source": [
    "nameset={\"chetan\",\"rohan\",\"shyam\"}\n",
    "nameset.discard(\"shyam\")\n",
    "print(nameset)"
   ]
  },
  {
   "cell_type": "code",
   "execution_count": 32,
   "id": "c3b6f06c",
   "metadata": {},
   "outputs": [
    {
     "name": "stdout",
     "output_type": "stream",
     "text": [
      "1,2,3\n",
      "{'1,2,3'}\n",
      "<class 'set'>\n"
     ]
    }
   ],
   "source": [
    "x=input()\n",
    "nameset=x.split\n",
    "nameset={x}\n",
    "print(nameset)\n",
    "print(type(nameset))"
   ]
  },
  {
   "cell_type": "code",
   "execution_count": 33,
   "id": "478bf22b",
   "metadata": {},
   "outputs": [
    {
     "name": "stdout",
     "output_type": "stream",
     "text": [
      "1,2\n",
      "2,4\n",
      "{'abcd', '1,2'}\n",
      "{'2,4', 'ABCD'}\n",
      "{'2,4', 'abcd', 'ABCD', '1,2'}\n"
     ]
    }
   ],
   "source": [
    "x=input()\n",
    "nameset={x}\n",
    "y=input()\n",
    "nameset1={y}\n",
    "nameset.add(\"abcd\")\n",
    "nameset1.add(\"ABCD\")\n",
    "print(nameset)\n",
    "print(nameset1)\n",
    "nameset.update(nameset1)\n",
    "print(nameset)\n"
   ]
  },
  {
   "cell_type": "code",
   "execution_count": 20,
   "id": "938fe59d",
   "metadata": {},
   "outputs": [
    {
     "name": "stdout",
     "output_type": "stream",
     "text": [
      "{1, 2, 3, 4, 5}\n"
     ]
    }
   ],
   "source": [
    "firstset={2,3,4,5}\n",
    "secondset={1,3,4,5}\n",
    "print(firstset|secondset)"
   ]
  },
  {
   "cell_type": "code",
   "execution_count": 24,
   "id": "b0c37358",
   "metadata": {},
   "outputs": [
    {
     "name": "stdout",
     "output_type": "stream",
     "text": [
      "{4, 6}\n"
     ]
    }
   ],
   "source": [
    "set1={1,2,3,4,6}\n",
    "set2={4,5,6}\n",
    "print(set1&set2)"
   ]
  },
  {
   "cell_type": "code",
   "execution_count": 25,
   "id": "24d5e5e4",
   "metadata": {},
   "outputs": [
    {
     "name": "stdout",
     "output_type": "stream",
     "text": [
      "{1, 6}\n"
     ]
    }
   ],
   "source": [
    "set1={1,2,3,4,5}\n",
    "set2={2,3,4,5,6}\n",
    "print(set1^set2)"
   ]
  },
  {
   "cell_type": "code",
   "execution_count": 35,
   "id": "c6f0eb47",
   "metadata": {},
   "outputs": [
    {
     "name": "stdout",
     "output_type": "stream",
     "text": [
      "{33, 34, 22, 56, 12, 44, 76}\n"
     ]
    }
   ],
   "source": [
    "set1={12,34,56}\n",
    "set2={12,33,76}\n",
    "set3={22,33,44}\n",
    "print(set1|set2|set3)"
   ]
  },
  {
   "cell_type": "code",
   "execution_count": 44,
   "id": "33ed81fd",
   "metadata": {},
   "outputs": [
    {
     "name": "stdout",
     "output_type": "stream",
     "text": [
      "enter dictionary:\n",
      "{}\n",
      "{0: 'peter', 1: 'john', 2: 'ricky'}\n",
      "{0: 'peter', 1: 'john', 2: 'ricky', 'emp_ages': (20, 30, 40)}\n"
     ]
    }
   ],
   "source": [
    "dict={}\n",
    "print(\"enter dictionary:\")\n",
    "print(dict)\n",
    "dict[0]=\"peter\"\n",
    "dict[1]=\"john\"\n",
    "dict[2]=\"ricky\"\n",
    "print(dict)\n",
    "dict[\"emp_ages\"]=20,30,40\n",
    "print(dict)"
   ]
  },
  {
   "cell_type": "code",
   "execution_count": 54,
   "id": "a51055df",
   "metadata": {},
   "outputs": [
    {
     "name": "stdout",
     "output_type": "stream",
     "text": [
      "chetan\n",
      "21\n",
      "sattur\n",
      "{'name': 'chetan', 'age': 21, 'place': 'sattur'}\n"
     ]
    }
   ],
   "source": [
    "dict3={}\n",
    "x=input()\n",
    "y=int(input())\n",
    "z=input()\n",
    "dict3[\"name\"]=x\n",
    "dict3[\"age\"]=y\n",
    "dict3[\"place\"]=z\n",
    "print(dict3)\n"
   ]
  },
  {
   "cell_type": "code",
   "execution_count": null,
   "id": "adc9f973",
   "metadata": {},
   "outputs": [],
   "source": []
  }
 ],
 "metadata": {
  "kernelspec": {
   "display_name": "Python 3 (ipykernel)",
   "language": "python",
   "name": "python3"
  },
  "language_info": {
   "codemirror_mode": {
    "name": "ipython",
    "version": 3
   },
   "file_extension": ".py",
   "mimetype": "text/x-python",
   "name": "python",
   "nbconvert_exporter": "python",
   "pygments_lexer": "ipython3",
   "version": "3.10.9"
  }
 },
 "nbformat": 4,
 "nbformat_minor": 5
}
